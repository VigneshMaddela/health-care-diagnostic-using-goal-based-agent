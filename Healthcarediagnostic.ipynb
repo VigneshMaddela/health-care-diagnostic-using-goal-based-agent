{
  "nbformat": 4,
  "nbformat_minor": 0,
  "metadata": {
    "colab": {
      "provenance": []
    },
    "kernelspec": {
      "name": "python3",
      "display_name": "Python 3"
    },
    "language_info": {
      "name": "python"
    }
  },
  "cells": [
    {
      "cell_type": "code",
      "execution_count": 6,
      "metadata": {
        "colab": {
          "base_uri": "https://localhost:8080/"
        },
        "id": "laJCq_r8G0mj",
        "outputId": "6aa5326d-4788-4c64-9d5f-887ea5692091"
      },
      "outputs": [
        {
          "output_type": "stream",
          "name": "stdout",
          "text": [
            "\n",
            "[Goal-Based Agent] Diagnosing disease based on input symptoms...\n",
            "\n",
            "--- Healthcare Diagnostic Report ---\n",
            "Agent Goal: Assist doctors in diagnosing diseases accurately based on symptoms.\n",
            "\n",
            "Symptoms Provided:\n",
            "Fever: Yes\n",
            "Cough: Yes\n",
            "Fatigue: Yes\n",
            "Headache: No\n",
            "Sore Throat: Yes\n",
            "Shortness Of Breath: No\n",
            "\n",
            "Predicted Disease:\n",
            "Flu (Confidence: 1.00)\n",
            "-----------------------------------\n"
          ]
        }
      ],
      "source": [
        "import pandas as pd\n",
        "import numpy as np\n",
        "from sklearn.tree import DecisionTreeClassifier\n",
        "from sklearn.model_selection import train_test_split\n",
        "from sklearn.preprocessing import LabelEncoder\n",
        "\n",
        "# Define Goal-Based Agent's Goal\n",
        "GOAL = \"Assist doctors in diagnosing diseases accurately based on symptoms.\"\n",
        "\n",
        "# Sample dataset: Symptoms and Corresponding Diseases\n",
        "data = {\n",
        "    \"fever\": [1, 1, 1, 0, 0, 0, 1, 1, 0],\n",
        "    \"cough\": [1, 0, 1, 1, 1, 0, 1, 0, 0],\n",
        "    \"fatigue\": [1, 1, 0, 1, 0, 1, 0, 1, 1],\n",
        "    \"headache\": [0, 1, 1, 0, 1, 1, 0, 0, 1],\n",
        "    \"sore_throat\": [1, 0, 1, 0, 1, 1, 1, 0, 0],\n",
        "    \"shortness_of_breath\": [0, 0, 1, 1, 0, 0, 1, 0, 0],\n",
        "    \"disease\": [\"Flu\", \"Dengue\", \"COVID-19\", \"Asthma\", \"Migraine\", \"Cold\", \"Pneumonia\", \"Allergy\", \"Fatigue Syndrome\"]\n",
        "}\n",
        "\n",
        "# Convert dataset to DataFrame\n",
        "df = pd.DataFrame(data)\n",
        "\n",
        "# Encode Disease Labels\n",
        "label_encoder = LabelEncoder()\n",
        "df[\"disease\"] = label_encoder.fit_transform(df[\"disease\"])\n",
        "\n",
        "# Split Data\n",
        "X = df.drop(columns=[\"disease\"])\n",
        "y = df[\"disease\"]\n",
        "X_train, X_test, y_train, y_test = train_test_split(X, y, test_size=0.2, random_state=42)\n",
        "\n",
        "# Train Decision Tree Classifier\n",
        "clf = DecisionTreeClassifier()\n",
        "clf.fit(X_train, y_train)\n",
        "\n",
        "# Goal-Based Agent Function to Predict Disease\n",
        "def predict_disease(symptoms):\n",
        "    print(\"\\n[Goal-Based Agent] Diagnosing disease based on input symptoms...\")\n",
        "    input_data = pd.DataFrame([symptoms], columns=X.columns)\n",
        "    prediction = clf.predict(input_data)[0]\n",
        "    disease_name = label_encoder.inverse_transform([prediction])[0]\n",
        "\n",
        "    # Reasoning Mechanism: Check for uncertainty and suggest further tests\n",
        "    confidence = clf.predict_proba(input_data).max()\n",
        "    recommendation = \"\" if confidence > 0.7 else \"Further diagnostic tests recommended.\"\n",
        "\n",
        "    return disease_name, confidence, recommendation\n",
        "\n",
        "# Example Usage\n",
        "symptoms_input = [1, 1, 1, 0, 1, 0]\n",
        "predicted_disease, confidence_score, recommendation = predict_disease(symptoms_input)\n",
        "\n",
        "#Output\n",
        "print(\"\\n--- Healthcare Diagnostic Report ---\")\n",
        "print(\"Agent Goal:\", GOAL)\n",
        "print(\"\\nSymptoms Provided:\")\n",
        "for feature, value in zip(X.columns, symptoms_input):\n",
        "    print(f\"{feature.replace('_', ' ').title()}: {'Yes' if value else 'No'}\")\n",
        "print(\"\\nPredicted Disease:\")\n",
        "print(f\"{predicted_disease} (Confidence: {confidence_score:.2f})\")\n",
        "if recommendation:\n",
        "    print(f\"Recommendation: {recommendation}\")\n",
        "print(\"-----------------------------------\")"
      ]
    }
  ]
}